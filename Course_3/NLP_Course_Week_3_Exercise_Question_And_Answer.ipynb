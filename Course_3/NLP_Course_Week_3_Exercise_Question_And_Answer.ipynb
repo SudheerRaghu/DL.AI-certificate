{
  "nbformat": 4,
  "nbformat_minor": 0,
  "metadata": {
    "colab": {
      "name": "NLP_Course-Week_3_Exercise_Question_And_Answer.ipynb",
      "version": "0.3.2",
      "provenance": [],
      "collapsed_sections": []
    },
    "kernelspec": {
      "name": "python3",
      "display_name": "Python 3"
    },
    "accelerator": "GPU"
  },
  "cells": [
    {
      "cell_type": "code",
      "metadata": {
        "id": "hmA6EzkQJ5jt",
        "colab_type": "code",
        "colab": {}
      },
      "source": [
        "import json\n",
        "import tensorflow as tf\n",
        "import csv\n",
        "import random\n",
        "import numpy as np\n",
        "\n",
        "from tensorflow.keras.preprocessing.text import Tokenizer\n",
        "from tensorflow.keras.preprocessing.sequence import pad_sequences\n",
        "from tensorflow.keras.utils import to_categorical\n",
        "from tensorflow.keras import regularizers\n",
        "\n",
        "\n",
        "embedding_dim = 100\n",
        "max_length = 16\n",
        "trunc_type = 'post'\n",
        "padding_type = 'post'\n",
        "oov_tok = \"<OOV>\"\n",
        "training_size = 160000 #Your dataset size here. Experiment using smaller values (i.e. 16000), but don't forget to train on at least 160000 to see the best effects\n",
        "test_portion = .1\n",
        "\n",
        "corpus = []"
      ],
      "execution_count": 0,
      "outputs": []
    },
    {
      "cell_type": "code",
      "metadata": {
        "id": "bM0l_dORKqE0",
        "colab_type": "code",
        "outputId": "5405c20d-c6da-4fa6-91b1-5a6e509d325a",
        "colab": {
          "base_uri": "https://localhost:8080/",
          "height": 219
        }
      },
      "source": [
        "# Note that I cleaned the Stanford dataset to remove LATIN1 encoding to make it easier for Python CSV reader\n",
        "# You can do that yourself with:\n",
        "# iconv -f LATIN1 -t UTF8 training.1600000.processed.noemoticon.csv -o training_cleaned.csv\n",
        "# I then hosted it on my site to make it easier to use in this notebook\n",
        "\n",
        "!wget --no-check-certificate \\\n",
        "    https://storage.googleapis.com/laurencemoroney-blog.appspot.com/training_cleaned.csv \\\n",
        "    -O /tmp/training_cleaned.csv\n",
        "\n",
        "num_sentences = 0\n",
        "\n",
        "with open(\"/tmp/training_cleaned.csv\") as csvfile:\n",
        "    reader = csv.reader(csvfile, delimiter=',')\n",
        "    for row in reader:\n",
        "      # Your Code here. Create list items where the first item is the text, found in row[5], and the second is the label. Note that the label is a '0' or a '4' in the text. When it's the former, make\n",
        "      # your label to be 0, otherwise 1. Keep a count of the number of sentences in num_sentences\n",
        "        list_item=[]\n",
        "        \n",
        "        # YOUR CODE HERE\n",
        "        list_item.append(row[5])\n",
        "        this_label = row[0]\n",
        "        if this_label=='0':\n",
        "            list_item.append(0)\n",
        "        else:\n",
        "            list_item.append(1)\n",
        "        \n",
        "        num_sentences = num_sentences + 1\n",
        "        corpus.append(list_item)\n",
        "\n",
        "\n"
      ],
      "execution_count": 2,
      "outputs": [
        {
          "output_type": "stream",
          "text": [
            "--2019-08-21 04:39:10--  https://storage.googleapis.com/laurencemoroney-blog.appspot.com/training_cleaned.csv\n",
            "Resolving storage.googleapis.com (storage.googleapis.com)... 74.125.23.128, 2404:6800:4008:c04::80\n",
            "Connecting to storage.googleapis.com (storage.googleapis.com)|74.125.23.128|:443... connected.\n",
            "HTTP request sent, awaiting response... 200 OK\n",
            "Length: 238942690 (228M) [application/octet-stream]\n",
            "Saving to: ‘/tmp/training_cleaned.csv’\n",
            "\n",
            "/tmp/training_clean 100%[===================>] 227.87M  62.6MB/s    in 3.6s    \n",
            "\n",
            "2019-08-21 04:39:14 (62.6 MB/s) - ‘/tmp/training_cleaned.csv’ saved [238942690/238942690]\n",
            "\n"
          ],
          "name": "stdout"
        }
      ]
    },
    {
      "cell_type": "code",
      "metadata": {
        "id": "3kxblBUjEUX-",
        "colab_type": "code",
        "outputId": "a67856ac-b70e-470a-d3ad-dc7f1cf20aa9",
        "colab": {
          "base_uri": "https://localhost:8080/",
          "height": 72
        }
      },
      "source": [
        "print(num_sentences)\n",
        "print(len(corpus))\n",
        "print(corpus[1])\n",
        "\n",
        "# Expected Output:\n",
        "# 1600000\n",
        "# 1600000\n",
        "# [\"is upset that he can't update his Facebook by texting it... and might cry as a result  School today also. Blah!\", 0]"
      ],
      "execution_count": 3,
      "outputs": [
        {
          "output_type": "stream",
          "text": [
            "1600000\n",
            "1600000\n",
            "[\"is upset that he can't update his Facebook by texting it... and might cry as a result  School today also. Blah!\", 0]\n"
          ],
          "name": "stdout"
        }
      ]
    },
    {
      "cell_type": "code",
      "metadata": {
        "id": "ohOGz24lsNAD",
        "colab_type": "code",
        "colab": {}
      },
      "source": [
        "sentences=[]\n",
        "labels=[]\n",
        "random.shuffle(corpus)\n",
        "for x in range(training_size):\n",
        "    sentences.append(corpus[x][0]) # YOUR CODE HERE\n",
        "    labels.append(corpus[x][1]) # YOUR CODE HERE\n",
        "\n",
        "\n",
        "tokenizer = Tokenizer()\n",
        "tokenizer.fit_on_texts(sentences) # YOUR CODE HERE\n",
        "\n",
        "word_index = tokenizer.word_index\n",
        "vocab_size = len(word_index) # YOUR CODE HERE\n",
        "\n",
        "\n",
        "sequences = tokenizer.texts_to_sequences(sentences) # YOUR CODE HERE\n",
        "padded = pad_sequences(sequences, padding = padding_type, truncating = trunc_type, maxlen = max_length) # YOUR CODE HERE\n",
        "\n",
        "split = int(test_portion * training_size)\n",
        "\n",
        "test_sequences = padded[0:split] # YOUR CODE HERE\n",
        "training_sequences = padded[split:training_size] # YOUR CODE HERE\n",
        "test_labels = labels[0:split] # YOUR CODE HERE\n",
        "training_labels = labels[split:training_size] # YOUR CODE HERE"
      ],
      "execution_count": 0,
      "outputs": []
    },
    {
      "cell_type": "code",
      "metadata": {
        "id": "gIrtRem1En3N",
        "colab_type": "code",
        "outputId": "346745c1-bab4-44a3-f1b3-46b19e3a3f08",
        "colab": {
          "base_uri": "https://localhost:8080/",
          "height": 54
        }
      },
      "source": [
        "print(vocab_size)\n",
        "print(word_index['i'])\n",
        "# Expected Output\n",
        "# 138858\n",
        "# 1"
      ],
      "execution_count": 5,
      "outputs": [
        {
          "output_type": "stream",
          "text": [
            "138632\n",
            "1\n"
          ],
          "name": "stdout"
        }
      ]
    },
    {
      "cell_type": "code",
      "metadata": {
        "id": "C1zdgJkusRh0",
        "colab_type": "code",
        "outputId": "6cb37dab-12ec-4ffc-a045-f40a3bd71b99",
        "colab": {
          "base_uri": "https://localhost:8080/",
          "height": 219
        }
      },
      "source": [
        "# Note this is the 100 dimension version of GloVe from Stanford\n",
        "# I unzipped and hosted it on my site to make this notebook easier\n",
        "!wget --no-check-certificate \\\n",
        "    https://storage.googleapis.com/laurencemoroney-blog.appspot.com/glove.6B.100d.txt \\\n",
        "    -O /tmp/glove.6B.100d.txt\n",
        "embeddings_index = {};\n",
        "with open('/tmp/glove.6B.100d.txt') as f:\n",
        "    for line in f:\n",
        "        values = line.split();\n",
        "        word = values[0];\n",
        "        coefs = np.asarray(values[1:], dtype='float32');\n",
        "        embeddings_index[word] = coefs;\n",
        "\n",
        "embeddings_matrix = np.zeros((vocab_size+1, embedding_dim));\n",
        "for word, i in word_index.items():\n",
        "    embedding_vector = embeddings_index.get(word);\n",
        "    if embedding_vector is not None:\n",
        "        embeddings_matrix[i] = embedding_vector;"
      ],
      "execution_count": 6,
      "outputs": [
        {
          "output_type": "stream",
          "text": [
            "--2019-08-21 04:39:59--  https://storage.googleapis.com/laurencemoroney-blog.appspot.com/glove.6B.100d.txt\n",
            "Resolving storage.googleapis.com (storage.googleapis.com)... 74.125.23.128, 2404:6800:4008:c04::80\n",
            "Connecting to storage.googleapis.com (storage.googleapis.com)|74.125.23.128|:443... connected.\n",
            "HTTP request sent, awaiting response... 200 OK\n",
            "Length: 347116733 (331M) [text/plain]\n",
            "Saving to: ‘/tmp/glove.6B.100d.txt’\n",
            "\n",
            "/tmp/glove.6B.100d. 100%[===================>] 331.04M  62.8MB/s    in 5.5s    \n",
            "\n",
            "2019-08-21 04:40:05 (60.4 MB/s) - ‘/tmp/glove.6B.100d.txt’ saved [347116733/347116733]\n",
            "\n"
          ],
          "name": "stdout"
        }
      ]
    },
    {
      "cell_type": "code",
      "metadata": {
        "id": "71NLk_lpFLNt",
        "colab_type": "code",
        "outputId": "9f07d419-a6f9-4da8-a7b5-0a5001ad545b",
        "colab": {
          "base_uri": "https://localhost:8080/",
          "height": 35
        }
      },
      "source": [
        "print(len(embeddings_matrix))\n",
        "# Expected Output\n",
        "# 138859"
      ],
      "execution_count": 7,
      "outputs": [
        {
          "output_type": "stream",
          "text": [
            "138633\n"
          ],
          "name": "stdout"
        }
      ]
    },
    {
      "cell_type": "code",
      "metadata": {
        "colab_type": "code",
        "id": "iKKvbuEBOGFz",
        "colab": {
          "base_uri": "https://localhost:8080/",
          "height": 1000
        },
        "outputId": "74e7a088-b9e1-491b-d082-eef8d597d66c"
      },
      "source": [
        "model = tf.keras.Sequential([\n",
        "    tf.keras.layers.Embedding(vocab_size+1, embedding_dim, input_length=max_length, weights=[embeddings_matrix], trainable=False),\n",
        "    # YOUR CODE HERE - experiment with combining different types, such as convolutions and LSTMs\n",
        "    tf.keras.layers.Dropout(0.2),\n",
        "    tf.keras.layers.Conv1D(64, 5, activation = 'relu'),\n",
        "    tf.keras.layers.MaxPooling1D(pool_size = 4),\n",
        "    tf.keras.layers.LSTM(64),\n",
        "    tf.keras.layers.Dense(1, activation = 'sigmoid')\n",
        "])\n",
        "model.compile(loss = 'binary_crossentropy', optimizer = 'adam', metrics = ['accuracy']) # YOUR CODE HERE\n",
        "model.summary()\n",
        "\n",
        "num_epochs = 50\n",
        "history = model.fit(training_sequences, training_labels, epochs=num_epochs, validation_data=(test_sequences, test_labels), verbose=2)\n",
        "\n",
        "print(\"Training Complete\")\n"
      ],
      "execution_count": 10,
      "outputs": [
        {
          "output_type": "stream",
          "text": [
            "Model: \"sequential_1\"\n",
            "_________________________________________________________________\n",
            "Layer (type)                 Output Shape              Param #   \n",
            "=================================================================\n",
            "embedding_2 (Embedding)      (None, 16, 100)           13863300  \n",
            "_________________________________________________________________\n",
            "dropout_3 (Dropout)          (None, 16, 100)           0         \n",
            "_________________________________________________________________\n",
            "conv1d_2 (Conv1D)            (None, 12, 64)            32064     \n",
            "_________________________________________________________________\n",
            "max_pooling1d_1 (MaxPooling1 (None, 3, 64)             0         \n",
            "_________________________________________________________________\n",
            "lstm_1 (LSTM)                (None, 64)                33024     \n",
            "_________________________________________________________________\n",
            "dense_1 (Dense)              (None, 1)                 65        \n",
            "=================================================================\n",
            "Total params: 13,928,453\n",
            "Trainable params: 65,153\n",
            "Non-trainable params: 13,863,300\n",
            "_________________________________________________________________\n",
            "Train on 144000 samples, validate on 16000 samples\n",
            "Epoch 1/50\n",
            "144000/144000 - 53s - loss: 0.5694 - acc: 0.6987 - val_loss: 0.5245 - val_acc: 0.7378\n",
            "Epoch 2/50\n",
            "144000/144000 - 53s - loss: 0.5290 - acc: 0.7303 - val_loss: 0.5179 - val_acc: 0.7402\n",
            "Epoch 3/50\n",
            "144000/144000 - 53s - loss: 0.5121 - acc: 0.7436 - val_loss: 0.5002 - val_acc: 0.7526\n",
            "Epoch 4/50\n",
            "144000/144000 - 53s - loss: 0.5005 - acc: 0.7510 - val_loss: 0.4958 - val_acc: 0.7552\n",
            "Epoch 5/50\n",
            "144000/144000 - 53s - loss: 0.4905 - acc: 0.7593 - val_loss: 0.5014 - val_acc: 0.7551\n",
            "Epoch 6/50\n",
            "144000/144000 - 53s - loss: 0.4840 - acc: 0.7627 - val_loss: 0.4967 - val_acc: 0.7554\n",
            "Epoch 7/50\n",
            "144000/144000 - 53s - loss: 0.4787 - acc: 0.7644 - val_loss: 0.4995 - val_acc: 0.7551\n",
            "Epoch 8/50\n",
            "144000/144000 - 53s - loss: 0.4743 - acc: 0.7677 - val_loss: 0.4992 - val_acc: 0.7569\n",
            "Epoch 9/50\n",
            "144000/144000 - 53s - loss: 0.4703 - acc: 0.7708 - val_loss: 0.4985 - val_acc: 0.7599\n",
            "Epoch 10/50\n",
            "144000/144000 - 53s - loss: 0.4655 - acc: 0.7743 - val_loss: 0.4974 - val_acc: 0.7581\n",
            "Epoch 11/50\n",
            "144000/144000 - 53s - loss: 0.4647 - acc: 0.7740 - val_loss: 0.4931 - val_acc: 0.7584\n",
            "Epoch 12/50\n",
            "144000/144000 - 53s - loss: 0.4593 - acc: 0.7781 - val_loss: 0.4991 - val_acc: 0.7561\n",
            "Epoch 13/50\n",
            "144000/144000 - 52s - loss: 0.4583 - acc: 0.7784 - val_loss: 0.4991 - val_acc: 0.7568\n",
            "Epoch 14/50\n",
            "144000/144000 - 52s - loss: 0.4539 - acc: 0.7806 - val_loss: 0.4981 - val_acc: 0.7564\n",
            "Epoch 15/50\n",
            "144000/144000 - 52s - loss: 0.4528 - acc: 0.7817 - val_loss: 0.4973 - val_acc: 0.7579\n",
            "Epoch 16/50\n",
            "144000/144000 - 52s - loss: 0.4520 - acc: 0.7819 - val_loss: 0.4985 - val_acc: 0.7607\n",
            "Epoch 17/50\n",
            "144000/144000 - 52s - loss: 0.4498 - acc: 0.7830 - val_loss: 0.5010 - val_acc: 0.7562\n",
            "Epoch 18/50\n",
            "144000/144000 - 53s - loss: 0.4491 - acc: 0.7844 - val_loss: 0.5053 - val_acc: 0.7549\n",
            "Epoch 19/50\n",
            "144000/144000 - 52s - loss: 0.4473 - acc: 0.7844 - val_loss: 0.5010 - val_acc: 0.7591\n",
            "Epoch 20/50\n",
            "144000/144000 - 52s - loss: 0.4449 - acc: 0.7863 - val_loss: 0.5087 - val_acc: 0.7563\n",
            "Epoch 21/50\n",
            "144000/144000 - 52s - loss: 0.4445 - acc: 0.7862 - val_loss: 0.5051 - val_acc: 0.7566\n",
            "Epoch 22/50\n",
            "144000/144000 - 52s - loss: 0.4439 - acc: 0.7869 - val_loss: 0.5023 - val_acc: 0.7561\n",
            "Epoch 23/50\n",
            "144000/144000 - 52s - loss: 0.4418 - acc: 0.7882 - val_loss: 0.5071 - val_acc: 0.7546\n",
            "Epoch 24/50\n",
            "144000/144000 - 53s - loss: 0.4412 - acc: 0.7891 - val_loss: 0.5046 - val_acc: 0.7554\n",
            "Epoch 25/50\n",
            "144000/144000 - 52s - loss: 0.4405 - acc: 0.7894 - val_loss: 0.5043 - val_acc: 0.7546\n",
            "Epoch 26/50\n",
            "144000/144000 - 52s - loss: 0.4393 - acc: 0.7895 - val_loss: 0.5167 - val_acc: 0.7558\n",
            "Epoch 27/50\n",
            "144000/144000 - 52s - loss: 0.4385 - acc: 0.7907 - val_loss: 0.5099 - val_acc: 0.7530\n",
            "Epoch 28/50\n",
            "144000/144000 - 52s - loss: 0.4363 - acc: 0.7919 - val_loss: 0.5136 - val_acc: 0.7521\n",
            "Epoch 29/50\n",
            "144000/144000 - 53s - loss: 0.4369 - acc: 0.7905 - val_loss: 0.5093 - val_acc: 0.7577\n",
            "Epoch 30/50\n",
            "144000/144000 - 52s - loss: 0.4364 - acc: 0.7919 - val_loss: 0.5054 - val_acc: 0.7573\n",
            "Epoch 31/50\n",
            "144000/144000 - 52s - loss: 0.4365 - acc: 0.7915 - val_loss: 0.5116 - val_acc: 0.7551\n",
            "Epoch 32/50\n",
            "144000/144000 - 52s - loss: 0.4360 - acc: 0.7921 - val_loss: 0.5142 - val_acc: 0.7518\n",
            "Epoch 33/50\n",
            "144000/144000 - 52s - loss: 0.4355 - acc: 0.7931 - val_loss: 0.5086 - val_acc: 0.7551\n",
            "Epoch 34/50\n",
            "144000/144000 - 52s - loss: 0.4357 - acc: 0.7926 - val_loss: 0.5090 - val_acc: 0.7564\n",
            "Epoch 35/50\n",
            "144000/144000 - 52s - loss: 0.4348 - acc: 0.7924 - val_loss: 0.5099 - val_acc: 0.7559\n",
            "Epoch 36/50\n",
            "144000/144000 - 52s - loss: 0.4340 - acc: 0.7928 - val_loss: 0.5096 - val_acc: 0.7564\n",
            "Epoch 37/50\n",
            "144000/144000 - 52s - loss: 0.4345 - acc: 0.7926 - val_loss: 0.5110 - val_acc: 0.7573\n",
            "Epoch 38/50\n",
            "144000/144000 - 52s - loss: 0.4337 - acc: 0.7937 - val_loss: 0.5141 - val_acc: 0.7533\n",
            "Epoch 39/50\n",
            "144000/144000 - 52s - loss: 0.4338 - acc: 0.7931 - val_loss: 0.5180 - val_acc: 0.7524\n",
            "Epoch 40/50\n",
            "144000/144000 - 52s - loss: 0.4330 - acc: 0.7944 - val_loss: 0.5142 - val_acc: 0.7529\n",
            "Epoch 41/50\n",
            "144000/144000 - 52s - loss: 0.4322 - acc: 0.7938 - val_loss: 0.5183 - val_acc: 0.7549\n",
            "Epoch 42/50\n",
            "144000/144000 - 52s - loss: 0.4329 - acc: 0.7948 - val_loss: 0.5121 - val_acc: 0.7529\n",
            "Epoch 43/50\n",
            "144000/144000 - 52s - loss: 0.4320 - acc: 0.7948 - val_loss: 0.5153 - val_acc: 0.7555\n",
            "Epoch 44/50\n",
            "144000/144000 - 52s - loss: 0.4319 - acc: 0.7945 - val_loss: 0.5086 - val_acc: 0.7534\n",
            "Epoch 45/50\n",
            "144000/144000 - 52s - loss: 0.4322 - acc: 0.7940 - val_loss: 0.5103 - val_acc: 0.7568\n",
            "Epoch 46/50\n",
            "144000/144000 - 52s - loss: 0.4301 - acc: 0.7957 - val_loss: 0.5100 - val_acc: 0.7542\n",
            "Epoch 47/50\n",
            "144000/144000 - 53s - loss: 0.4306 - acc: 0.7954 - val_loss: 0.5137 - val_acc: 0.7538\n",
            "Epoch 48/50\n",
            "144000/144000 - 52s - loss: 0.4317 - acc: 0.7946 - val_loss: 0.5097 - val_acc: 0.7584\n",
            "Epoch 49/50\n",
            "144000/144000 - 52s - loss: 0.4296 - acc: 0.7962 - val_loss: 0.5189 - val_acc: 0.7557\n",
            "Epoch 50/50\n",
            "144000/144000 - 52s - loss: 0.4306 - acc: 0.7961 - val_loss: 0.5136 - val_acc: 0.7555\n",
            "Training Complete\n"
          ],
          "name": "stdout"
        }
      ]
    },
    {
      "cell_type": "code",
      "metadata": {
        "id": "qxju4ItJKO8F",
        "colab_type": "code",
        "colab": {
          "base_uri": "https://localhost:8080/",
          "height": 610
        },
        "outputId": "896f886e-f2bf-4a02-b935-7b9d18011bd2"
      },
      "source": [
        "import matplotlib.image  as mpimg\n",
        "import matplotlib.pyplot as plt\n",
        "\n",
        "#-----------------------------------------------------------\n",
        "# Retrieve a list of list results on training and test data\n",
        "# sets for each training epoch\n",
        "#-----------------------------------------------------------\n",
        "acc=history.history['acc']\n",
        "val_acc=history.history['val_acc']\n",
        "loss=history.history['loss']\n",
        "val_loss=history.history['val_loss']\n",
        "\n",
        "epochs=range(len(acc)) # Get number of epochs\n",
        "\n",
        "#------------------------------------------------\n",
        "# Plot training and validation accuracy per epoch\n",
        "#------------------------------------------------\n",
        "plt.plot(epochs, acc, 'r')\n",
        "plt.plot(epochs, val_acc, 'b')\n",
        "plt.title('Training and validation accuracy')\n",
        "plt.xlabel(\"Epochs\")\n",
        "plt.ylabel(\"Accuracy\")\n",
        "plt.legend([\"Accuracy\", \"Validation Accuracy\"])\n",
        "\n",
        "plt.figure()\n",
        "\n",
        "#------------------------------------------------\n",
        "# Plot training and validation loss per epoch\n",
        "#------------------------------------------------\n",
        "plt.plot(epochs, loss, 'r')\n",
        "plt.plot(epochs, val_loss, 'b')\n",
        "plt.title('Training and validation loss')\n",
        "plt.xlabel(\"Epochs\")\n",
        "plt.ylabel(\"Loss\")\n",
        "plt.legend([\"Loss\", \"Validation Loss\"])\n",
        "\n",
        "plt.figure()\n",
        "\n",
        "\n",
        "# Expected Output\n",
        "# A chart where the validation loss does not increase sharply!"
      ],
      "execution_count": 11,
      "outputs": [
        {
          "output_type": "execute_result",
          "data": {
            "text/plain": [
              "<Figure size 432x288 with 0 Axes>"
            ]
          },
          "metadata": {
            "tags": []
          },
          "execution_count": 11
        },
        {
          "output_type": "display_data",
          "data": {
            "image/png": "[encoded data removed]",
            "text/plain": [
              "<Figure size 432x288 with 1 Axes>"
            ]
          },
          "metadata": {
            "tags": []
          }
        },
        {
          "output_type": "display_data",
          "data": {
            "image/png": "[encoded data removed]",
            "text/plain": [
              "<Figure size 432x288 with 1 Axes>"
            ]
          },
          "metadata": {
            "tags": []
          }
        },
        {
          "output_type": "display_data",
          "data": {
            "text/plain": [
              "<Figure size 432x288 with 0 Axes>"
            ]
          },
          "metadata": {
            "tags": []
          }
        }
      ]
    },
    {
      "cell_type": "code",
      "metadata": {
        "id": "djfl6Zm9qWk1",
        "colab_type": "code",
        "colab": {}
      },
      "source": [
        ""
      ],
      "execution_count": 0,
      "outputs": []
    }
  ]
}